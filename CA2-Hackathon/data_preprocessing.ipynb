{
 "cells": [
  {
   "cell_type": "code",
   "execution_count": 12,
   "id": "485168f9",
   "metadata": {},
   "outputs": [
    {
     "name": "stderr",
     "output_type": "stream",
     "text": [
      "[nltk_data] Downloading package punkt to\n",
      "[nltk_data]     C:\\Users\\user\\AppData\\Roaming\\nltk_data...\n",
      "[nltk_data]   Unzipping tokenizers\\punkt.zip.\n"
     ]
    },
    {
     "data": {
      "text/plain": [
       "True"
      ]
     },
     "execution_count": 12,
     "metadata": {},
     "output_type": "execute_result"
    }
   ],
   "source": [
    "import os\n",
    "import numpy as np\n",
    "import pandas as pd\n",
    "#import torch\n",
    "\n",
    "from collections import Counter\n",
    "from nltk import word_tokenize\n",
    "import nltk\n",
    "nltk.download('punkt')"
   ]
  },
  {
   "cell_type": "code",
   "execution_count": 13,
   "id": "09e4ad75",
   "metadata": {},
   "outputs": [],
   "source": [
    "# all.review.vec.txt\n",
    "with open(\"./data/embed_vec.txt\", 'r', encoding=\"UTF8\") as file:\n",
    "    a = file.readlines()"
   ]
  },
  {
   "cell_type": "code",
   "execution_count": 14,
   "id": "daf826a8",
   "metadata": {},
   "outputs": [],
   "source": [
    "# index_word : about all.review.vec.txt, word\n",
    "# emb_vec : about all.review.vec.txt, embedding vector\n",
    "index_word = []\n",
    "emb_vec = np.zeros((56050, 100))\n",
    "for i in range(56050):\n",
    "    index_word.append(a[i].split()[0])\n",
    "    for j in range(100):\n",
    "        emb_vec[i, j] = float(a[i].split()[j+1])"
   ]
  },
  {
   "cell_type": "code",
   "execution_count": 15,
   "id": "914efc7f",
   "metadata": {},
   "outputs": [
    {
     "name": "stdout",
     "output_type": "stream",
     "text": [
      "3817\n"
     ]
    }
   ],
   "source": [
    "# word_list : about reviews, every words\n",
    "word_list = []\n",
    "tokens = []\n",
    "sentence_max = []\n",
    "for i in range(2000):\n",
    "    f = open(\"./data/train/all/{}\".format(i), 'r', encoding=\"UTF8\")\n",
    "    reviews = f.readline()\n",
    "    token = word_tokenize(reviews)\n",
    "    tokens += token\n",
    "    sentence_max.append(len(token))\n",
    "max_len = np.max(sentence_max)\n",
    "print(max_len)\n",
    "for i in reversed(range(len(tokens))):\n",
    "    if (tokens[i] not in index_word):\n",
    "        del tokens[i]"
   ]
  },
  {
   "cell_type": "code",
   "execution_count": 18,
   "id": "a1ca412d",
   "metadata": {},
   "outputs": [],
   "source": [
    "# tag_count : about reviews, frequncy of 10000 words\n",
    "# tags : about reviews, frequnt 10000 words\n",
    "count = Counter(tokens)\n",
    "tag_count = []\n",
    "tags = []\n",
    "for n, c in count.most_common(10000):\n",
    "    dics = {'tag': n, 'count': c}\n",
    "    tag_count.append(dics)\n",
    "    tags.append(dics['tag'])"
   ]
  },
  {
   "cell_type": "code",
   "execution_count": 19,
   "id": "c50191d8",
   "metadata": {},
   "outputs": [],
   "source": [
    "# embedding : about all.review.vec.txt (word, embedding vector)\n",
    "embedding = {}\n",
    "for i in range(len(index_word)):\n",
    "    embedding[index_word[i]] = emb_vec[i, :]"
   ]
  },
  {
   "cell_type": "code",
   "execution_count": 20,
   "id": "a2dc12d9",
   "metadata": {},
   "outputs": [
    {
     "name": "stderr",
     "output_type": "stream",
     "text": [
      "C:\\Users\\user\\anaconda3\\lib\\site-packages\\numpy\\core\\_asarray.py:102: VisibleDeprecationWarning: Creating an ndarray from ragged nested sequences (which is a list-or-tuple of lists-or-tuples-or ndarrays with different lengths or shapes) is deprecated. If you meant to do this, you must specify 'dtype=object' when creating the ndarray.\n",
      "  return array(a, dtype, copy=False, order=order)\n"
     ]
    }
   ],
   "source": [
    "final = pd.DataFrame({\"index\": [], \"embedding_vector\": []})\n",
    "\n",
    "for i in range(10000):\n",
    "    final.loc[i] = [i, embedding[tags[i]].tolist()]\n"
   ]
  },
  {
   "cell_type": "markdown",
   "id": "0229d9f3",
   "metadata": {},
   "source": [
    "labeling"
   ]
  },
  {
   "cell_type": "code",
   "execution_count": 22,
   "id": "209ef12b",
   "metadata": {},
   "outputs": [],
   "source": [
    "neg_dir = './data/train/negative/'\n",
    "pos_dir = './data/train/positive/'\n",
    "\n",
    "neg_list = os.listdir(neg_dir)\n",
    "pos_list = os.listdir(pos_dir)\n",
    "\n",
    "neg_lists = [int(str) for str in neg_list]\n",
    "pos_lists = [int(str) for str in pos_list]\n",
    "\n",
    "neg_lists = sorted(neg_lists)\n",
    "pos_lists = sorted(pos_lists)"
   ]
  },
  {
   "cell_type": "code",
   "execution_count": 39,
   "id": "5c0fcce0",
   "metadata": {},
   "outputs": [],
   "source": [
    "tags_word2idx = {}\n",
    "for i in range(len(tags)):\n",
    "    tags_word2idx[tags[i]] = i"
   ]
  },
  {
   "cell_type": "markdown",
   "id": "9331cb58",
   "metadata": {},
   "source": [
    "train"
   ]
  },
  {
   "cell_type": "code",
   "execution_count": 62,
   "id": "19444059",
   "metadata": {},
   "outputs": [],
   "source": [
    "train = np.full((2000, 3774), 10001) # 3817"
   ]
  },
  {
   "cell_type": "code",
   "execution_count": 63,
   "id": "dc3bc5c8",
   "metadata": {},
   "outputs": [],
   "source": [
    "tags_word2idx = {}\n",
    "for i in range(len(tags)):\n",
    "    tags_word2idx[tags[i]] = i"
   ]
  },
  {
   "cell_type": "code",
   "execution_count": 70,
   "id": "422df446",
   "metadata": {},
   "outputs": [],
   "source": [
    "for i in range(2000):\n",
    "    f = open(\"./data/train/all/{}\".format(i), 'r', encoding=\"UTF8\")\n",
    "    reviews = f.readline()\n",
    "    if i in neg_lists:\n",
    "        label = 0\n",
    "    else:\n",
    "        label = 1\n",
    "    token = word_tokenize(reviews)\n",
    "    for k in reversed(range(len(token))):\n",
    "        if (token[k] not in index_word):\n",
    "            del token[k]\n",
    "        \n",
    "    for j in range(len(token)):\n",
    "        if token[j] in tags:\n",
    "            train[i, j] = tags_word2idx[token[j]]\n",
    "        else:\n",
    "            train[i, j] = 10000\n",
    "        train[i, 3773] = label"
   ]
  },
  {
   "cell_type": "code",
   "execution_count": 73,
   "id": "5d41de3c",
   "metadata": {},
   "outputs": [],
   "source": [
    "np.save(\"./train\", train)"
   ]
  },
  {
   "cell_type": "markdown",
   "id": "9fa11a6a",
   "metadata": {},
   "source": [
    "test"
   ]
  },
  {
   "cell_type": "code",
   "execution_count": 76,
   "id": "53156cfb",
   "metadata": {},
   "outputs": [],
   "source": [
    "test = np.full((2000, 3774), 10001)\n",
    "\n",
    "tags_word2idx = {}\n",
    "for i in range(len(tags)):\n",
    "    tags_word2idx[tags[i]] = i"
   ]
  },
  {
   "cell_type": "code",
   "execution_count": 77,
   "id": "fea4bc11",
   "metadata": {},
   "outputs": [],
   "source": [
    "for i in range(2000):\n",
    "    f = open(\"./data/test/{}\".format(i), 'r', encoding=\"UTF8\")\n",
    "    reviews = f.readline()\n",
    "    if i in neg_lists:\n",
    "        label = 0\n",
    "    else:\n",
    "        label = 1\n",
    "    token = word_tokenize(reviews)\n",
    "    for k in reversed(range(len(token))):\n",
    "        if (token[k] not in index_word):\n",
    "            del token[k]\n",
    "            \n",
    "    for j in range(len(token)):\n",
    "        if token[j] in tags:\n",
    "            test[i, j] = tags_word2idx[token[j]]\n",
    "        else:\n",
    "            test[i, j] = 10000\n",
    "        test[i, 3773] = label"
   ]
  },
  {
   "cell_type": "code",
   "execution_count": 54,
   "id": "c2a90956",
   "metadata": {},
   "outputs": [],
   "source": [
    "np.save(\"./test\", test)"
   ]
  }
 ],
 "metadata": {
  "kernelspec": {
   "display_name": "aiExp",
   "language": "python",
   "name": "aiexp"
  },
  "language_info": {
   "codemirror_mode": {
    "name": "ipython",
    "version": 3
   },
   "file_extension": ".py",
   "mimetype": "text/x-python",
   "name": "python",
   "nbconvert_exporter": "python",
   "pygments_lexer": "ipython3",
   "version": "3.8.8"
  }
 },
 "nbformat": 4,
 "nbformat_minor": 5
}
