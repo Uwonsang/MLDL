{
 "cells": [
  {
   "cell_type": "code",
   "execution_count": 20,
   "id": "887abe09",
   "metadata": {},
   "outputs": [],
   "source": [
    "import pandas as pd\n",
    "import numpy as np\n",
    "from PIL import Image"
   ]
  },
  {
   "cell_type": "code",
   "execution_count": 21,
   "id": "ab179d8b",
   "metadata": {},
   "outputs": [],
   "source": [
    "filename = '../dataset/cifar100_lt/data/cifar100_lt.csv'"
   ]
  },
  {
   "cell_type": "code",
   "execution_count": null,
   "id": "f4bc5849",
   "metadata": {},
   "outputs": [],
   "source": []
  },
  {
   "cell_type": "code",
   "execution_count": null,
   "id": "1125b1ff",
   "metadata": {},
   "outputs": [],
   "source": []
  },
  {
   "cell_type": "code",
   "execution_count": 22,
   "id": "4385e939",
   "metadata": {},
   "outputs": [],
   "source": [
    "data = pd.read_csv(filename, names=['path', 'class'], header=None)\n",
    "class_name = np.unique(data['class'][:28723])\n",
    "one_hot_class = {value: key for key, value in enumerate(class_name)}\n",
    "data = data.replace(one_hot_class)"
   ]
  },
  {
   "cell_type": "code",
   "execution_count": 23,
   "id": "e0ee618a",
   "metadata": {},
   "outputs": [],
   "source": [
    "data_train_img = []\n",
    "for filename in data['path'][:28723]:\n",
    "    img_data = Image.open('../dataset/' + filename)\n",
    "    img_array = np.asarray(img_data)\n",
    "    data_train_img.append(img_array)"
   ]
  },
  {
   "cell_type": "code",
   "execution_count": 24,
   "id": "77b47403",
   "metadata": {},
   "outputs": [],
   "source": [
    "data_test_img = []\n",
    "for filename in data['path'][28723:]:\n",
    "    img_data = Image.open('../dataset/' + filename)\n",
    "    img_array = np.asarray(img_data)\n",
    "    data_test_img.append(img_array)"
   ]
  },
  {
   "cell_type": "code",
   "execution_count": null,
   "id": "c4829f24",
   "metadata": {},
   "outputs": [],
   "source": []
  },
  {
   "cell_type": "code",
   "execution_count": null,
   "id": "b0460550",
   "metadata": {},
   "outputs": [],
   "source": []
  },
  {
   "cell_type": "code",
   "execution_count": null,
   "id": "c9f95ffd",
   "metadata": {},
   "outputs": [],
   "source": []
  }
 ],
 "metadata": {
  "kernelspec": {
   "display_name": "Python 3",
   "language": "python",
   "name": "python3"
  },
  "language_info": {
   "codemirror_mode": {
    "name": "ipython",
    "version": 3
   },
   "file_extension": ".py",
   "mimetype": "text/x-python",
   "name": "python",
   "nbconvert_exporter": "python",
   "pygments_lexer": "ipython3",
   "version": "3.8.8"
  }
 },
 "nbformat": 4,
 "nbformat_minor": 5
}
