{
 "cells": [
  {
   "cell_type": "code",
   "execution_count": 12,
   "metadata": {
    "collapsed": true
   },
   "outputs": [
    {
     "name": "stderr",
     "output_type": "stream",
     "text": [
      "[nltk_data] Downloading package punkt to\n",
      "[nltk_data]     C:\\Users\\wonsang\\AppData\\Roaming\\nltk_data...\n",
      "[nltk_data]   Package punkt is already up-to-date!\n"
     ]
    }
   ],
   "source": [
    "import os\n",
    "import nltk\n",
    "nltk.download('punkt')\n",
    "import matplotlib.pyplot as plt\n",
    "import pandas as pd\n",
    "import glob"
   ]
  },
  {
   "cell_type": "code",
   "execution_count": 35,
   "outputs": [],
   "source": [
    "def load_txt(path):\n",
    "    with open(path, 'r') as f:\n",
    "        data = f.readlines()\n",
    "    return data\n",
    "\n",
    "def load_data(path):\n",
    "    result = []\n",
    "    for filepath in glob.glob(path + \"/*\"):\n",
    "        text = load_txt(filepath)[0]\n",
    "        result.append(text)\n",
    "    return result"
   ],
   "metadata": {
    "collapsed": false,
    "pycharm": {
     "name": "#%%\n"
    }
   }
  },
  {
   "cell_type": "code",
   "execution_count": 36,
   "outputs": [],
   "source": [
    "positive = load_data(\"../data/train/positive\")\n",
    "negative = load_data(\"../data/train/negative\")\n",
    "total = positive + negative"
   ],
   "metadata": {
    "collapsed": false,
    "pycharm": {
     "name": "#%%\n"
    }
   }
  },
  {
   "cell_type": "code",
   "execution_count": 50,
   "outputs": [
    {
     "name": "stdout",
     "output_type": "stream",
     "text": [
      "total_words_len : 375354\n",
      "unique_words_len : 24473\n"
     ]
    }
   ],
   "source": [
    "## the total number of unique words in T\n",
    "total_words = []\n",
    "\n",
    "for sentence in total:\n",
    "    total_words += sentence.split()\n",
    "print('total_words_len:', len(total_words))\n",
    "\n",
    "unique_words = set(total_words)\n",
    "print('unique_words_len:', len(unique_words))"
   ],
   "metadata": {
    "collapsed": false,
    "pycharm": {
     "name": "#%%\n"
    }
   }
  },
  {
   "cell_type": "code",
   "execution_count": 54,
   "outputs": [
    {
     "name": "stdout",
     "output_type": "stream",
     "text": [
      "total number :  2000\n"
     ]
    }
   ],
   "source": [
    "## the total number of training examples in T\n",
    "print('total number:', len(total))"
   ],
   "metadata": {
    "collapsed": false,
    "pycharm": {
     "name": "#%%\n"
    }
   }
  },
  {
   "cell_type": "code",
   "execution_count": 57,
   "outputs": [
    {
     "name": "stdout",
     "output_type": "stream",
     "text": [
      "postive number: 1000\n",
      "negative number: 1000\n",
      "the ratio of positive examples to negative examples:  0.5 0.5\n"
     ]
    }
   ],
   "source": [
    "## the ratio of positive examples to negative examples in T\n",
    "print('postive number:', len(positive))\n",
    "print('negative number:', len(negative))\n",
    "print('the ratio of positive examples to negative examples:', len(positive)/ len(total) , len(negative) / len(total) )"
   ],
   "metadata": {
    "collapsed": false,
    "pycharm": {
     "name": "#%%\n"
    }
   }
  },
  {
   "cell_type": "code",
   "execution_count": 59,
   "outputs": [
    {
     "name": "stdout",
     "output_type": "stream",
     "text": [
      "average_length of document: 963.3975\n"
     ]
    }
   ],
   "source": [
    "## the average length of document in T\n",
    "length_document = [len(sentence) for sentence in total]\n",
    "print('average_length of document:', sum(length_document) / len(length_document))"
   ],
   "metadata": {
    "collapsed": false,
    "pycharm": {
     "name": "#%%\n"
    }
   }
  },
  {
   "cell_type": "code",
   "execution_count": 60,
   "outputs": [
    {
     "name": "stdout",
     "output_type": "stream",
     "text": [
      "max length of document: 20775\n"
     ]
    }
   ],
   "source": [
    "## the max length of document in T\n",
    "length_document = [len(sentence) for sentence in total]\n",
    "print('max length of document:' , max(length_document))"
   ],
   "metadata": {
    "collapsed": false,
    "pycharm": {
     "name": "#%%\n"
    }
   }
  },
  {
   "cell_type": "code",
   "execution_count": null,
   "outputs": [],
   "source": [],
   "metadata": {
    "collapsed": false,
    "pycharm": {
     "name": "#%%\n"
    }
   }
  }
 ],
 "metadata": {
  "kernelspec": {
   "display_name": "Python 3",
   "language": "python",
   "name": "python3"
  },
  "language_info": {
   "codemirror_mode": {
    "name": "ipython",
    "version": 2
   },
   "file_extension": ".py",
   "mimetype": "text/x-python",
   "name": "python",
   "nbconvert_exporter": "python",
   "pygments_lexer": "ipython2",
   "version": "2.7.6"
  }
 },
 "nbformat": 4,
 "nbformat_minor": 0
}